{
 "cells": [
  {
   "cell_type": "code",
   "execution_count": 12,
   "metadata": {
    "collapsed": false
   },
   "outputs": [],
   "source": [
    "import sklearn\n",
    "from sklearn.datasets import fetch_20newsgroups\n",
    "from sklearn.feature_extraction.text import TfidfTransformer\n",
    "from sklearn.feature_extraction.text import CountVectorizer\n",
    "from sklearn.naive_bayes import MultinomialNB\n",
    "from sklearn.pipeline import Pipeline\n",
    "from sklearn.datasets.base import Bunch\n",
    "import json\n",
    "from sklearn.cross_validation import train_test_split\n",
    "import numpy as np\n",
    "from sklearn import metrics\n",
    "from sklearn.linear_model import SGDClassifier"
   ]
  },
  {
   "cell_type": "code",
   "execution_count": 13,
   "metadata": {
    "collapsed": false
   },
   "outputs": [],
   "source": [
    "dataset = Bunch()\n",
    "dataset.data = [];\n",
    "dataset.target = [];\n",
    "dataset.target_names = ['notjob', 'job'];"
   ]
  },
  {
   "cell_type": "code",
   "execution_count": 14,
   "metadata": {
    "collapsed": true
   },
   "outputs": [],
   "source": [
    "# twenty_train.data = ['This is amazing', 'This is so cool', 'This is terrible'];\n",
    "# twenty_train.target =  [0, 0, 1];"
   ]
  },
  {
   "cell_type": "code",
   "execution_count": 15,
   "metadata": {
    "collapsed": false
   },
   "outputs": [],
   "source": [
    "with open('dataset/bbc.json') as f:\n",
    "    for line in f:\n",
    "        texts = json.loads(line)\n",
    "        for text in texts:\n",
    "            dataset.data.append(text)\n",
    "            dataset.target.append(0)\n",
    "with open('dataset/medium.json') as f:\n",
    "    for line in f:\n",
    "        texts = json.loads(line)\n",
    "        for text in texts:\n",
    "            dataset.data.append(text)\n",
    "            dataset.target.append(0)\n",
    "with open('dataset/jobs.json') as f:\n",
    "    for line in f:\n",
    "        texts = json.loads(line)\n",
    "        for text in texts:\n",
    "            dataset.data.append(text)\n",
    "            dataset.target.append(1)"
   ]
  },
  {
   "cell_type": "code",
   "execution_count": 16,
   "metadata": {
    "collapsed": false
   },
   "outputs": [],
   "source": [
    "text_clf = Pipeline([\n",
    "    ('vect', CountVectorizer(\n",
    "                min_df=0.1,\n",
    "                max_df=0.3\n",
    "            )),\n",
    "    ('tfidf', TfidfTransformer(\n",
    "                sublinear_tf=True\n",
    "            )),\n",
    "    ('clf', MultinomialNB())\n",
    "])"
   ]
  },
  {
   "cell_type": "code",
   "execution_count": 17,
   "metadata": {
    "collapsed": false
   },
   "outputs": [],
   "source": [
    "data_train, data_test, target_train, target_test = train_test_split(dataset.data, dataset.target)\n",
    "text_clf = text_clf.fit(data_train, target_train)"
   ]
  },
  {
   "cell_type": "code",
   "execution_count": 18,
   "metadata": {
    "collapsed": false
   },
   "outputs": [
    {
     "data": {
      "text/plain": [
       "0.97012302284710017"
      ]
     },
     "execution_count": 18,
     "metadata": {},
     "output_type": "execute_result"
    }
   ],
   "source": [
    "predicted = text_clf.predict(data_test)\n",
    "np.mean(predicted == target_test)"
   ]
  },
  {
   "cell_type": "code",
   "execution_count": 19,
   "metadata": {
    "collapsed": false
   },
   "outputs": [
    {
     "name": "stdout",
     "output_type": "stream",
     "text": [
      "             precision    recall  f1-score   support\n",
      "\n",
      "     notjob       0.95      0.98      0.96       713\n",
      "        job       0.98      0.96      0.97       994\n",
      "\n",
      "avg / total       0.97      0.97      0.97      1707\n",
      "\n"
     ]
    }
   ],
   "source": [
    "print(metrics.classification_report(target_test, predicted, target_names=dataset.target_names))"
   ]
  },
  {
   "cell_type": "code",
   "execution_count": 20,
   "metadata": {
    "collapsed": false
   },
   "outputs": [
    {
     "name": "stdout",
     "output_type": "stream",
     "text": [
      "notjob 0.713042376461\n",
      "job 0.286957623539\n"
     ]
    }
   ],
   "source": [
    "docs_new = ['How do I get developer access to the Medium API?This is currently an early access program, so if you’re interested, let us know by emailing developers@medium.com. Once approved, the easiest way to get started on the platform is to use an SDK. There are currently three official SDKs, for Go, Python, and NodeJS. There is also a reference WordPress plugin that demonstrates PHP.']\n",
    "\n",
    "results = text_clf.predict_proba(docs_new)[0]\n",
    "print(dataset.target_names[0], results[0])\n",
    "print(dataset.target_names[1], results[1])"
   ]
  },
  {
   "cell_type": "code",
   "execution_count": 21,
   "metadata": {
    "collapsed": false
   },
   "outputs": [
    {
     "name": "stdout",
     "output_type": "stream",
     "text": [
      "             precision    recall  f1-score   support\n",
      "\n",
      "     notjob       0.99      0.99      0.99       680\n",
      "        job       1.00      0.99      1.00      1027\n",
      "\n",
      "avg / total       0.99      0.99      0.99      1707\n",
      "\n"
     ]
    }
   ],
   "source": [
    "text_clf = Pipeline([\n",
    "    ('vect', CountVectorizer(\n",
    "            min_df=0.1,\n",
    "            max_df=0.3\n",
    "            )),\n",
    "    ('tfidf', TfidfTransformer()),\n",
    "    ('clf', SGDClassifier(loss='modified_huber', penalty='l2',\n",
    "    alpha=1e-3, n_iter=5, random_state=42)),\n",
    " ])\n",
    "data_train, data_test, target_train, target_test = train_test_split(dataset.data, dataset.target)\n",
    "text_clf = text_clf.fit(data_train, target_train)\n",
    "predicted = text_clf.predict(data_test)\n",
    "\n",
    "print(metrics.classification_report(target_test, predicted, target_names=dataset.target_names))"
   ]
  },
  {
   "cell_type": "code",
   "execution_count": 22,
   "metadata": {
    "collapsed": false
   },
   "outputs": [
    {
     "name": "stdout",
     "output_type": "stream",
     "text": [
      "notjob 0.689561143885\n",
      "job 0.310438856115\n"
     ]
    }
   ],
   "source": [
    "docs_new = ['How do I get developer access to the Medium API?This is currently an early access program, so if you’re interested, let us know by emailing developers@medium.com. Once approved, the easiest way to get started on the platform is to use an SDK. There are currently three official SDKs, for Go, Python, and NodeJS. There is also a reference WordPress plugin that demonstrates PHP.']\n",
    "results = text_clf.predict_proba(docs_new)[0]\n",
    "print(dataset.target_names[0], results[0])\n",
    "print(dataset.target_names[1], results[1])"
   ]
  }
 ],
 "metadata": {
  "anaconda-cloud": {},
  "kernelspec": {
   "display_name": "Python [default]",
   "language": "python",
   "name": "python3"
  },
  "language_info": {
   "codemirror_mode": {
    "name": "ipython",
    "version": 3
   },
   "file_extension": ".py",
   "mimetype": "text/x-python",
   "name": "python",
   "nbconvert_exporter": "python",
   "pygments_lexer": "ipython3",
   "version": "3.5.2"
  }
 },
 "nbformat": 4,
 "nbformat_minor": 1
}
