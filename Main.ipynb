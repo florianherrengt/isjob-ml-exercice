{
 "cells": [
  {
   "cell_type": "code",
   "execution_count": 1,
   "metadata": {
    "collapsed": false
   },
   "outputs": [],
   "source": [
    "import sklearn\n",
    "from sklearn.feature_extraction.text import TfidfTransformer\n",
    "from sklearn.feature_extraction.text import CountVectorizer\n",
    "from sklearn.naive_bayes import MultinomialNB\n",
    "from sklearn.pipeline import Pipeline\n",
    "from sklearn.datasets.base import Bunch\n",
    "import json\n",
    "from sklearn.cross_validation import train_test_split\n",
    "import numpy as np\n",
    "from sklearn import metrics\n",
    "from sklearn.linear_model import SGDClassifier"
   ]
  },
  {
   "cell_type": "markdown",
   "metadata": {},
   "source": [
    "# Prepare"
   ]
  },
  {
   "cell_type": "markdown",
   "metadata": {},
   "source": [
    "## Format dataset"
   ]
  },
  {
   "cell_type": "code",
   "execution_count": 2,
   "metadata": {
    "collapsed": false
   },
   "outputs": [],
   "source": [
    "dataset = Bunch()\n",
    "dataset.data = [];\n",
    "dataset.target = [];\n",
    "dataset.target_names = ['notjob', 'job'];"
   ]
  },
  {
   "cell_type": "markdown",
   "metadata": {},
   "source": [
    "## Import data"
   ]
  },
  {
   "cell_type": "code",
   "execution_count": 3,
   "metadata": {
    "collapsed": false
   },
   "outputs": [],
   "source": [
    "with open('dataset/bbc.json') as f:\n",
    "    for line in f:\n",
    "        texts = json.loads(line)\n",
    "        for text in texts:\n",
    "            dataset.data.append(text)\n",
    "            dataset.target.append(0)\n",
    "with open('dataset/medium.json') as f:\n",
    "    for line in f:\n",
    "        texts = json.loads(line)\n",
    "        for text in texts:\n",
    "            dataset.data.append(text)\n",
    "            dataset.target.append(0)\n",
    "with open('dataset/jobs.json') as f:\n",
    "    for line in f:\n",
    "        texts = json.loads(line)\n",
    "        for text in texts:\n",
    "            dataset.data.append(text)\n",
    "            dataset.target.append(1)"
   ]
  },
  {
   "cell_type": "markdown",
   "metadata": {},
   "source": [
    "# Classifiers"
   ]
  },
  {
   "cell_type": "markdown",
   "metadata": {},
   "source": [
    "## Naive Bayes"
   ]
  },
  {
   "cell_type": "markdown",
   "metadata": {},
   "source": [
    "### Building"
   ]
  },
  {
   "cell_type": "code",
   "execution_count": 4,
   "metadata": {
    "collapsed": false
   },
   "outputs": [],
   "source": [
    "text_clf = Pipeline([\n",
    "    ('vect', CountVectorizer(\n",
    "                min_df=0.1,\n",
    "                max_df=0.3\n",
    "            )),\n",
    "    ('tfidf', TfidfTransformer(\n",
    "                sublinear_tf=True\n",
    "            )),\n",
    "    ('clf', MultinomialNB())\n",
    "])"
   ]
  },
  {
   "cell_type": "markdown",
   "metadata": {},
   "source": [
    "### Train"
   ]
  },
  {
   "cell_type": "code",
   "execution_count": 5,
   "metadata": {
    "collapsed": false
   },
   "outputs": [],
   "source": [
    "data_train, data_test, target_train, target_test = train_test_split(dataset.data, dataset.target)\n",
    "text_clf = text_clf.fit(data_train, target_train)"
   ]
  },
  {
   "cell_type": "markdown",
   "metadata": {},
   "source": [
    "### Evaluation of the performance"
   ]
  },
  {
   "cell_type": "code",
   "execution_count": 6,
   "metadata": {
    "collapsed": false
   },
   "outputs": [
    {
     "data": {
      "text/plain": [
       "0.96836555360281196"
      ]
     },
     "execution_count": 6,
     "metadata": {},
     "output_type": "execute_result"
    }
   ],
   "source": [
    "predicted = text_clf.predict(data_test)\n",
    "np.mean(predicted == target_test)"
   ]
  },
  {
   "cell_type": "code",
   "execution_count": 7,
   "metadata": {
    "collapsed": false
   },
   "outputs": [
    {
     "name": "stdout",
     "output_type": "stream",
     "text": [
      "             precision    recall  f1-score   support\n",
      "\n",
      "     notjob       0.93      0.99      0.96       660\n",
      "        job       0.99      0.96      0.97      1047\n",
      "\n",
      "avg / total       0.97      0.97      0.97      1707\n",
      "\n"
     ]
    }
   ],
   "source": [
    "print(metrics.classification_report(target_test, predicted, target_names=dataset.target_names))"
   ]
  },
  {
   "cell_type": "code",
   "execution_count": 8,
   "metadata": {
    "collapsed": false
   },
   "outputs": [
    {
     "name": "stdout",
     "output_type": "stream",
     "text": [
      "notjob 0.724655223505\n",
      "job 0.275344776495\n"
     ]
    }
   ],
   "source": [
    "# This text used to be classified as job at ~0.90\n",
    "docs_new = ['How do I get developer access to the Medium API?This is currently an early access program, so if you’re interested, let us know by emailing developers@medium.com. Once approved, the easiest way to get started on the platform is to use an SDK. There are currently three official SDKs, for Go, Python, and NodeJS. There is also a reference WordPress plugin that demonstrates PHP.']\n",
    "\n",
    "results = text_clf.predict_proba(docs_new)[0]\n",
    "print(dataset.target_names[0], results[0])\n",
    "print(dataset.target_names[1], results[1])"
   ]
  },
  {
   "cell_type": "markdown",
   "metadata": {},
   "source": [
    "## Stochastic Gradient Descent (SGD)"
   ]
  },
  {
   "cell_type": "markdown",
   "metadata": {},
   "source": [
    "### Building"
   ]
  },
  {
   "cell_type": "code",
   "execution_count": 9,
   "metadata": {
    "collapsed": false
   },
   "outputs": [],
   "source": [
    "text_clf = Pipeline([\n",
    "    ('vect', CountVectorizer(\n",
    "            min_df=0.1,\n",
    "            max_df=0.3\n",
    "            )),\n",
    "    ('tfidf', TfidfTransformer()),\n",
    "    ('clf', SGDClassifier(loss='modified_huber', penalty='l2',\n",
    "    alpha=1e-3, n_iter=5, random_state=42)),\n",
    " ])"
   ]
  },
  {
   "cell_type": "markdown",
   "metadata": {},
   "source": [
    "### Train"
   ]
  },
  {
   "cell_type": "code",
   "execution_count": 10,
   "metadata": {
    "collapsed": true
   },
   "outputs": [],
   "source": [
    "data_train, data_test, target_train, target_test = train_test_split(dataset.data, dataset.target)\n",
    "text_clf = text_clf.fit(data_train, target_train)"
   ]
  },
  {
   "cell_type": "markdown",
   "metadata": {},
   "source": [
    "### Evaluation of the performance"
   ]
  },
  {
   "cell_type": "code",
   "execution_count": 11,
   "metadata": {
    "collapsed": false
   },
   "outputs": [
    {
     "name": "stdout",
     "output_type": "stream",
     "text": [
      "             precision    recall  f1-score   support\n",
      "\n",
      "     notjob       0.99      0.99      0.99       637\n",
      "        job       0.99      0.99      0.99      1070\n",
      "\n",
      "avg / total       0.99      0.99      0.99      1707\n",
      "\n"
     ]
    }
   ],
   "source": [
    "predicted = text_clf.predict(data_test)\n",
    "\n",
    "print(metrics.classification_report(target_test, predicted, target_names=dataset.target_names))"
   ]
  },
  {
   "cell_type": "code",
   "execution_count": 12,
   "metadata": {
    "collapsed": false
   },
   "outputs": [
    {
     "name": "stdout",
     "output_type": "stream",
     "text": [
      "notjob 0.691573221464\n",
      "job 0.308426778536\n"
     ]
    }
   ],
   "source": [
    "# This text used to be classified as job at ~0.90\n",
    "docs_new = ['How do I get developer access to the Medium API?This is currently an early access program, so if you’re interested, let us know by emailing developers@medium.com. Once approved, the easiest way to get started on the platform is to use an SDK. There are currently three official SDKs, for Go, Python, and NodeJS. There is also a reference WordPress plugin that demonstrates PHP.']\n",
    "results = text_clf.predict_proba(docs_new)[0]\n",
    "print(dataset.target_names[0], results[0])\n",
    "print(dataset.target_names[1], results[1])"
   ]
  }
 ],
 "metadata": {
  "anaconda-cloud": {},
  "kernelspec": {
   "display_name": "Python [default]",
   "language": "python",
   "name": "python3"
  },
  "language_info": {
   "codemirror_mode": {
    "name": "ipython",
    "version": 3
   },
   "file_extension": ".py",
   "mimetype": "text/x-python",
   "name": "python",
   "nbconvert_exporter": "python",
   "pygments_lexer": "ipython3",
   "version": "3.5.2"
  }
 },
 "nbformat": 4,
 "nbformat_minor": 1
}
