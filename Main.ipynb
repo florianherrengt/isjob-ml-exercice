{
 "cells": [
  {
   "cell_type": "code",
   "execution_count": 35,
   "metadata": {
    "collapsed": false
   },
   "outputs": [],
   "source": [
    "import sklearn\n",
    "from sklearn.feature_extraction.text import TfidfTransformer\n",
    "from sklearn.feature_extraction.text import CountVectorizer\n",
    "from sklearn.naive_bayes import MultinomialNB\n",
    "from sklearn.pipeline import Pipeline\n",
    "from sklearn.datasets.base import Bunch\n",
    "import json\n",
    "from sklearn.model_selection import train_test_split\n",
    "from sklearn.model_selection import cross_val_score\n",
    "import numpy as np\n",
    "from sklearn import metrics\n",
    "from sklearn.linear_model import SGDClassifier\n",
    "from sklearn.model_selection import KFold\n",
    "from sklearn.model_selection import GridSearchCV\n",
    "from sklearn.externals import joblib\n",
    "import unicodedata\n",
    "from collections import OrderedDict\n",
    "import os\n",
    "import time"
   ]
  },
  {
   "cell_type": "markdown",
   "metadata": {},
   "source": [
    "# ENV VAR"
   ]
  },
  {
   "cell_type": "code",
   "execution_count": 2,
   "metadata": {
    "collapsed": false
   },
   "outputs": [
    {
     "name": "stdout",
     "output_type": "stream",
     "text": [
      "SHORTEN_DATASET: True\n"
     ]
    }
   ],
   "source": [
    "SHORTEN_DATASET = os.environ['SHORTEN_DATASET'] == 'True'\n",
    "print('SHORTEN_DATASET:', SHORTEN_DATASET)"
   ]
  },
  {
   "cell_type": "markdown",
   "metadata": {},
   "source": [
    "# Prepare"
   ]
  },
  {
   "cell_type": "markdown",
   "metadata": {},
   "source": [
    "## Prepare dataset variables"
   ]
  },
  {
   "cell_type": "code",
   "execution_count": 3,
   "metadata": {
    "collapsed": false
   },
   "outputs": [],
   "source": [
    "articles_data = []\n",
    "jobs_data = []"
   ]
  },
  {
   "cell_type": "markdown",
   "metadata": {},
   "source": [
    "## Import data"
   ]
  },
  {
   "cell_type": "markdown",
   "metadata": {
    "collapsed": false
   },
   "source": [
    "Read files"
   ]
  },
  {
   "cell_type": "markdown",
   "metadata": {},
   "source": [
    "_articles_"
   ]
  },
  {
   "cell_type": "code",
   "execution_count": 40,
   "metadata": {
    "collapsed": false
   },
   "outputs": [],
   "source": [
    "for filename in ['gizmodo', 'lifehacker', 'techcrunch', 'theverge']:\n",
    "    with open('./dataset/' + filename + '.json') as f:\n",
    "        lines = f.read().splitlines()\n",
    "    for line in lines:\n",
    "        articles_data.append(\n",
    "            unicodedata.normalize(\"NFKD\", json.loads(line)['body'])\n",
    "        )"
   ]
  },
  {
   "cell_type": "code",
   "execution_count": 41,
   "metadata": {
    "collapsed": false
   },
   "outputs": [
    {
     "name": "stdout",
     "output_type": "stream",
     "text": [
      "Huawei has just launched the Mate 9, an all-metal Android that feels very promising indeed. It's also rather large, featuring a finger-stretching 5.9-inch display. We've spent some quality time with it, and you can find our first impressions here. Unexpectedly, however, the company appears to be delaying the Mate 9's UK release. The press release lists France, Germany, Italy, Poland and Spain among its \"first-wave\" launch markets, but leaves out the UK. Completely. This despite execs saying that only the grey and silver models of the phone would be available to British consumers... so it's still likely to come here at some point... probably. Huawei hasn't mentioned any specific dates yet, and we've asked them to shed more light on the UK situation.\n"
     ]
    }
   ],
   "source": [
    "print(articles_data[1])"
   ]
  },
  {
   "cell_type": "code",
   "execution_count": 42,
   "metadata": {
    "collapsed": true
   },
   "outputs": [],
   "source": [
    "for filename in ['reed']:\n",
    "    with open('./dataset/' + filename + '.json') as f:\n",
    "        lines = f.read().splitlines()\n",
    "    for line in lines:\n",
    "        jobs_data.append(\n",
    "            unicodedata.normalize(\"NFKD\", json.loads(line)['description'])\n",
    "        )"
   ]
  },
  {
   "cell_type": "code",
   "execution_count": 43,
   "metadata": {
    "collapsed": false
   },
   "outputs": [
    {
     "data": {
      "text/plain": [
       "'IT Strategic Supplier Manager - Various Locations - Permanent - £35,000 - £41,000 per annum plus benefits   The Company  An IT Strategic Supplier Manager is required by a specialist health authority that has recently undergone an IT transformation. They are currently recruiting for a number of opportunities within  their IT Department to deliver these specialists Greenfield projects.   This position can be based in either Birmingham, Colindale, Bristol, Manchester or Liverpool.   The Role  This position will act as an advocate for our organisation by positively promoting donation to your friends, family, colleagues and customers   Responsibilities  *You will act as custodian of the ICT Supplier management framework, ensuring suppliers meet their contractual obligations.  *You will ensure that contracts are delivering value for money  *You will provide support during re-procurement and tendering for new IT services to ensure contracts are fit for purpose and transition well into the operational environment.  *You will act as the \"intelligent customer\" providing commercial support to the technical team, by being able to understand the technical requirements and translate them into robust commercial contracts   Experience and Knowledge Required  *Experience of working alongside highly technical teams with the ability to translate technical requirements  *Experience of commercial management disciplines including contract negotiation, contract review, pricing models and supplier management  *Experience of supporting the acquisition and management of business information systems  *Extensive experience of working with Information Technology using Microsoft Office packages (Word, Excel and PowerPoint)  *Experience of NHS or other public sector procurement and accounting would be desirable.  *Communicate succinctly, clearly and accurately in plain simple language, both verbally, in writing and formal presentations  *Be an effective team member who is able to relate to colleagues at all levels across our large multi-site organisation with tact and diplomacy  *Motivate others, promoting a clear sense of purpose and a positive attitude to work with individuals and teams  *Organise and prioritise own workload and where required workload of others, taking responsibility for delivering results within agreed timescales and standards within an environment of changing priorities and pressures  *Analyse highly complex situations and make informed decisions  *Effective negotiating skills demonstrating a track record in improving supplier performance   Benefits  27 days annual leave plus bank holidays  NHS Pension   If you are interested in this position, please apply now for immediate consideration.   Spring Technology is acting as an Employment Business in relation to this vacancy.   Spring Technology is an Equal Opportunities employer; we welcome applicants from all backgrounds.'"
      ]
     },
     "execution_count": 43,
     "metadata": {},
     "output_type": "execute_result"
    }
   ],
   "source": [
    "jobs_data[1]"
   ]
  },
  {
   "cell_type": "markdown",
   "metadata": {},
   "source": [
    "_dataset size_"
   ]
  },
  {
   "cell_type": "markdown",
   "metadata": {
    "collapsed": false
   },
   "source": [
    "### Remove dupes"
   ]
  },
  {
   "cell_type": "code",
   "execution_count": 44,
   "metadata": {
    "collapsed": false
   },
   "outputs": [
    {
     "name": "stdout",
     "output_type": "stream",
     "text": [
      "jobs_data size:  131536\n",
      "jobs_data deduped size:  114005\n",
      "articles_data size:  222908\n",
      "articles_data deduped size:  217707\n"
     ]
    }
   ],
   "source": [
    "print('jobs_data size: ', len(jobs_data))\n",
    "jobs_data = list(OrderedDict.fromkeys(jobs_data))\n",
    "print('jobs_data deduped size: ', len(jobs_data))\n",
    "print('articles_data size: ', len(articles_data))\n",
    "articles_data = list(OrderedDict.fromkeys(articles_data))\n",
    "print('articles_data deduped size: ', len(articles_data))"
   ]
  },
  {
   "cell_type": "markdown",
   "metadata": {},
   "source": [
    "### Reduce size of dataset for experimentation"
   ]
  },
  {
   "cell_type": "code",
   "execution_count": 45,
   "metadata": {
    "collapsed": false
   },
   "outputs": [],
   "source": [
    "# if SHORTEN_DATASET:\n",
    "#     jobs_data = jobs_data[0:5000]\n",
    "#     articles_data = articles_data[0:5000]"
   ]
  },
  {
   "cell_type": "markdown",
   "metadata": {},
   "source": [
    "## Create dataset and target"
   ]
  },
  {
   "cell_type": "code",
   "execution_count": 46,
   "metadata": {
    "collapsed": false
   },
   "outputs": [
    {
     "name": "stdout",
     "output_type": "stream",
     "text": [
      "dataset.data size:  331712\n"
     ]
    }
   ],
   "source": [
    "dataset = Bunch()\n",
    "dataset.data = [];\n",
    "dataset.target = [];\n",
    "dataset.target_names = ['notjob', 'job'];\n",
    "\n",
    "for data in articles_data:\n",
    "    dataset.data.append(data)\n",
    "    dataset.target.append(0)\n",
    "for data in jobs_data:\n",
    "    dataset.data.append(data)\n",
    "    dataset.target.append(1)\n",
    "print('dataset.data size: ', len(dataset.data))"
   ]
  },
  {
   "cell_type": "markdown",
   "metadata": {},
   "source": [
    "### Split train / test "
   ]
  },
  {
   "cell_type": "code",
   "execution_count": 47,
   "metadata": {
    "collapsed": false
   },
   "outputs": [],
   "source": [
    "data_train, data_test, target_train, target_test = train_test_split(dataset.data, dataset.target)"
   ]
  },
  {
   "cell_type": "markdown",
   "metadata": {},
   "source": [
    "# Classifiers"
   ]
  },
  {
   "cell_type": "markdown",
   "metadata": {},
   "source": [
    "## Naive Bayes"
   ]
  },
  {
   "cell_type": "markdown",
   "metadata": {},
   "source": [
    "### Building"
   ]
  },
  {
   "cell_type": "code",
   "execution_count": 48,
   "metadata": {
    "collapsed": false
   },
   "outputs": [],
   "source": [
    "text_clf = Pipeline([\n",
    "    ('vect', CountVectorizer()),\n",
    "    ('tfidf', TfidfTransformer()),\n",
    "    ('clf', MultinomialNB())\n",
    "])"
   ]
  },
  {
   "cell_type": "code",
   "execution_count": 49,
   "metadata": {
    "collapsed": false
   },
   "outputs": [
    {
     "data": {
      "text/plain": [
       "Pipeline(steps=[('vect', CountVectorizer(analyzer='word', binary=False, decode_error='strict',\n",
       "        dtype=<class 'numpy.int64'>, encoding='utf-8', input='content',\n",
       "        lowercase=True, max_df=0.7, max_features=None, min_df=0.1,\n",
       "        ngram_range=(1, 1), preprocessor=None, stop_words='english',\n",
       "      ...inear_tf=False, use_idf=True)), ('clf', MultinomialNB(alpha=0.2, class_prior=None, fit_prior=True))])"
      ]
     },
     "execution_count": 49,
     "metadata": {},
     "output_type": "execute_result"
    }
   ],
   "source": [
    "params = {\n",
    "    'clf__alpha': 0.20000000000000001,\n",
    "    'vect__max_df': 0.69999999999999996,\n",
    "    'vect__min_df': 0.10000000000000001,\n",
    "    'vect__lowercase': True,\n",
    "    'vect__stop_words': 'english',\n",
    "    'vect__strip_accents': 'ascii',\n",
    "}\n",
    "text_clf.set_params(**params)"
   ]
  },
  {
   "cell_type": "markdown",
   "metadata": {},
   "source": [
    "### Train"
   ]
  },
  {
   "cell_type": "code",
   "execution_count": 50,
   "metadata": {
    "collapsed": false
   },
   "outputs": [
    {
     "name": "stdout",
     "output_type": "stream",
     "text": [
      "elapsed time:  74.90340495109558\n"
     ]
    }
   ],
   "source": [
    "start_time = time.time()\n",
    "text_clf = text_clf.fit(data_train, target_train)\n",
    "print('elapsed time: ',  time.time() - start_time)"
   ]
  },
  {
   "cell_type": "markdown",
   "metadata": {},
   "source": [
    "### Evaluation of the performance"
   ]
  },
  {
   "cell_type": "code",
   "execution_count": 51,
   "metadata": {
    "collapsed": false
   },
   "outputs": [
    {
     "data": {
      "text/plain": [
       "0.99529712521705571"
      ]
     },
     "execution_count": 51,
     "metadata": {},
     "output_type": "execute_result"
    }
   ],
   "source": [
    "predicted = text_clf.predict(data_test)\n",
    "np.mean(predicted == target_test)"
   ]
  },
  {
   "cell_type": "code",
   "execution_count": 52,
   "metadata": {
    "collapsed": false
   },
   "outputs": [
    {
     "name": "stdout",
     "output_type": "stream",
     "text": [
      "             precision    recall  f1-score   support\n",
      "\n",
      "     notjob       1.00      1.00      1.00     54524\n",
      "        job       0.99      0.99      0.99     28404\n",
      "\n",
      "avg / total       1.00      1.00      1.00     82928\n",
      "\n"
     ]
    }
   ],
   "source": [
    "print(metrics.classification_report(target_test, predicted, target_names=dataset.target_names))"
   ]
  },
  {
   "cell_type": "code",
   "execution_count": 53,
   "metadata": {
    "collapsed": false
   },
   "outputs": [
    {
     "name": "stdout",
     "output_type": "stream",
     "text": [
      "notjob 0.923177868816\n",
      "job 0.0768221311836\n"
     ]
    }
   ],
   "source": [
    "# This text used to be classified as job at ~0.90\n",
    "docs_new = ['How do I get developer access to the Medium API? This is currently an early access program, so if you’re interested, let us know by emailing developers@medium.com. Once approved, the easiest way to get started on the platform is to use an SDK. There are currently three official SDKs, for Go, Python, and NodeJS. There is also a reference WordPress plugin that demonstrates PHP.']\n",
    "\n",
    "results = text_clf.predict_proba(docs_new)[0]\n",
    "print(dataset.target_names[0], results[0])\n",
    "print(dataset.target_names[1], results[1])"
   ]
  },
  {
   "cell_type": "markdown",
   "metadata": {},
   "source": [
    "## Stochastic Gradient Descent (SGD)"
   ]
  },
  {
   "cell_type": "markdown",
   "metadata": {},
   "source": [
    "### Building"
   ]
  },
  {
   "cell_type": "code",
   "execution_count": 18,
   "metadata": {
    "collapsed": false
   },
   "outputs": [],
   "source": [
    "# text_clf = Pipeline([\n",
    "#     ('vect', CountVectorizer()),\n",
    "#     ('tfidf', TfidfTransformer()),\n",
    "#     ('clf', SGDClassifier()),\n",
    "#  ])"
   ]
  },
  {
   "cell_type": "code",
   "execution_count": 19,
   "metadata": {
    "collapsed": false
   },
   "outputs": [],
   "source": [
    "# text_clf.get_params()"
   ]
  },
  {
   "cell_type": "code",
   "execution_count": 20,
   "metadata": {
    "collapsed": false
   },
   "outputs": [],
   "source": [
    "# params = {\n",
    "#     'vect__max_df': 0.5,\n",
    "#     'vect__min_df': 0.4,\n",
    "#     'vect__ngram_range': (1, 2),\n",
    "#     'vect__lowercase': True,\n",
    "#     'vect__stop_words': 'english',\n",
    "#     'vect__strip_accents': 'ascii',\n",
    "#     'tfidf__sublinear_tf': True,\n",
    "#     'clf__loss': 'modified_huber',\n",
    "#     'clf__penalty': 'l2',\n",
    "#     'clf__alpha': 1e-05, \n",
    "#     'clf__n_iter': 5\n",
    "# }\n",
    "# text_clf.set_params(**params)"
   ]
  },
  {
   "cell_type": "markdown",
   "metadata": {},
   "source": [
    "### Train"
   ]
  },
  {
   "cell_type": "code",
   "execution_count": 21,
   "metadata": {
    "collapsed": false
   },
   "outputs": [],
   "source": [
    "# text_clf = text_clf.fit(data_train, target_train)"
   ]
  },
  {
   "cell_type": "markdown",
   "metadata": {},
   "source": [
    "### Evaluation of the performance"
   ]
  },
  {
   "cell_type": "code",
   "execution_count": 22,
   "metadata": {
    "collapsed": false
   },
   "outputs": [],
   "source": [
    "# predicted = text_clf.predict(data_test)\n",
    "\n",
    "# print(metrics.classification_report(target_test, predicted, target_names=dataset.target_names))"
   ]
  },
  {
   "cell_type": "code",
   "execution_count": 23,
   "metadata": {
    "collapsed": false
   },
   "outputs": [],
   "source": [
    "# # This text used to be classified as job at ~0.90\n",
    "# docs_new = ['How do I get developer access to the Medium API? This is currently an early access program, so if you’re interested, let us know by emailing developers@medium.com. Once approved, the easiest way to get started on the platform is to use an SDK. There are currently three official SDKs, for Go, Python, and NodeJS. There is also a reference WordPress plugin that demonstrates PHP.']\n",
    "# results = text_clf.predict_proba(docs_new)[0]\n",
    "# print(dataset.target_names[0], results[0])\n",
    "# print(dataset.target_names[1], results[1])"
   ]
  },
  {
   "cell_type": "code",
   "execution_count": 24,
   "metadata": {
    "collapsed": false
   },
   "outputs": [],
   "source": [
    "# docs_new = ['The Data Analytics and Reporting team acts as a central service for all business analytics within ICE Data Services. The team takes an entrepreneurial approach to problem solving, partnering closely with the project management office to design and implement solutions to key operational problems through analysis. The team is critical in developing key performance indicators and the corresponding monitoring tools to empower management. With no two problems the same, a close partnership with executive management, and a continually increasing demand this position offers an exciting opportunity to grow and develop in one of the market’s most exciting roles']\n",
    "# results = text_clf.predict_proba(docs_new)[0]\n",
    "# print(dataset.target_names[0], results[0])\n",
    "# print(dataset.target_names[1], results[1])"
   ]
  },
  {
   "cell_type": "markdown",
   "metadata": {},
   "source": [
    "# Export model"
   ]
  },
  {
   "cell_type": "code",
   "execution_count": 54,
   "metadata": {
    "collapsed": false
   },
   "outputs": [
    {
     "data": {
      "text/plain": [
       "['model.pkl']"
      ]
     },
     "execution_count": 54,
     "metadata": {},
     "output_type": "execute_result"
    }
   ],
   "source": [
    "joblib.dump(text_clf, 'model.pkl') \n",
    "# clf = joblib.load('filename.pkl') "
   ]
  },
  {
   "cell_type": "markdown",
   "metadata": {},
   "source": [
    "# Improvement and experimentation"
   ]
  },
  {
   "cell_type": "markdown",
   "metadata": {
    "collapsed": true
   },
   "source": [
    "### Cross Validation (work in progress)"
   ]
  },
  {
   "cell_type": "code",
   "execution_count": 26,
   "metadata": {
    "collapsed": false
   },
   "outputs": [],
   "source": [
    "# predicted = cross_val_score(text_clf, data_train, target_train, cv=10)"
   ]
  },
  {
   "cell_type": "code",
   "execution_count": 27,
   "metadata": {
    "collapsed": false
   },
   "outputs": [],
   "source": [
    "# predicted"
   ]
  },
  {
   "cell_type": "code",
   "execution_count": 28,
   "metadata": {
    "collapsed": false
   },
   "outputs": [],
   "source": [
    "# cv = KFold(len(dataset.data), n_folds=5, shuffle=True, random_state=241)\n",
    "# print(cv)"
   ]
  },
  {
   "cell_type": "markdown",
   "metadata": {},
   "source": [
    "### Grid Search"
   ]
  },
  {
   "cell_type": "code",
   "execution_count": 33,
   "metadata": {
    "collapsed": false
   },
   "outputs": [],
   "source": [
    "parameters = {\n",
    "    'vect__max_df': np.arange(0.7, 1, 0.1),\n",
    "    'vect__min_df': np.arange(0.1, 0.5, 0.1),\n",
    "    'clf__alpha':  np.arange(0.1, 1, 0.1)\n",
    "}\n",
    "\n",
    "gs = GridSearchCV(text_clf, parameters, n_jobs=-1, verbose=1)"
   ]
  },
  {
   "cell_type": "code",
   "execution_count": 34,
   "metadata": {
    "collapsed": false
   },
   "outputs": [
    {
     "name": "stdout",
     "output_type": "stream",
     "text": [
      "Fitting 3 folds for each of 144 candidates, totalling 432 fits\n"
     ]
    },
    {
     "name": "stderr",
     "output_type": "stream",
     "text": [
      "[Parallel(n_jobs=-1)]: Done  34 tasks      | elapsed:   49.6s\n",
      "[Parallel(n_jobs=-1)]: Done 184 tasks      | elapsed:  3.9min\n",
      "[Parallel(n_jobs=-1)]: Done 432 out of 432 | elapsed:  9.1min finished\n"
     ]
    },
    {
     "data": {
      "text/plain": [
       "GridSearchCV(cv=None, error_score='raise',\n",
       "       estimator=Pipeline(steps=[('vect', CountVectorizer(analyzer='word', binary=False, decode_error='strict',\n",
       "        dtype=<class 'numpy.int64'>, encoding='utf-8', input='content',\n",
       "        lowercase=True, max_df=0.7, max_features=None, min_df=0.1,\n",
       "        ngram_range=(1, 1), preprocessor=None, stop_words='english',\n",
       "      ...inear_tf=False, use_idf=True)), ('clf', MultinomialNB(alpha=0.4, class_prior=None, fit_prior=True))]),\n",
       "       fit_params={}, iid=True, n_jobs=-1,\n",
       "       param_grid={'vect__min_df': array([ 0.1,  0.2,  0.3,  0.4]), 'clf__alpha': array([ 0.1,  0.2,  0.3,  0.4,  0.5,  0.6,  0.7,  0.8,  0.9]), 'vect__max_df': array([ 0.7,  0.8,  0.9,  1. ])},\n",
       "       pre_dispatch='2*n_jobs', refit=True, return_train_score=True,\n",
       "       scoring=None, verbose=1)"
      ]
     },
     "execution_count": 34,
     "metadata": {},
     "output_type": "execute_result"
    }
   ],
   "source": [
    "gs.fit(dataset.data, dataset.target)"
   ]
  },
  {
   "cell_type": "code",
   "execution_count": 37,
   "metadata": {
    "collapsed": false
   },
   "outputs": [
    {
     "name": "stdout",
     "output_type": "stream",
     "text": [
      "\tclf__alpha: 0.20000000000000001\n",
      "\tvect__max_df: 0.69999999999999996\n",
      "\tvect__min_df: 0.10000000000000001\n"
     ]
    }
   ],
   "source": [
    "best_parameters = gs.best_estimator_.get_params()\n",
    "for param_name in sorted(parameters.keys()):\n",
    "    print(\"\\t%s: %r\" % (param_name, best_parameters[param_name]))"
   ]
  },
  {
   "cell_type": "code",
   "execution_count": null,
   "metadata": {
    "collapsed": true
   },
   "outputs": [],
   "source": []
  }
 ],
 "metadata": {
  "anaconda-cloud": {},
  "kernelspec": {
   "display_name": "Python [Root]",
   "language": "python",
   "name": "Python [Root]"
  },
  "language_info": {
   "codemirror_mode": {
    "name": "ipython",
    "version": 3
   },
   "file_extension": ".py",
   "mimetype": "text/x-python",
   "name": "python",
   "nbconvert_exporter": "python",
   "pygments_lexer": "ipython3",
   "version": "3.5.2"
  }
 },
 "nbformat": 4,
 "nbformat_minor": 1
}
